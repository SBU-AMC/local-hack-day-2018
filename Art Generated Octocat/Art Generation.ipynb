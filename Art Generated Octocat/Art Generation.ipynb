{
 "cells": [
  {
   "cell_type": "code",
   "execution_count": 1,
   "metadata": {},
   "outputs": [],
   "source": [
    "import tensorflow as tf\n",
    "import numpy as np\n",
    "import matplotlib.pyplot as plt\n",
    "import matplotlib.image as mpimg\n",
    "import scipy\n",
    "import scipy.io\n",
    "from PIL import Image\n",
    "%matplotlib inline"
   ]
  },
  {
   "cell_type": "code",
   "execution_count": 2,
   "metadata": {},
   "outputs": [],
   "source": [
    "def content_cost(a_C, a_G):\n",
    "    m, n_h, n_w, n_c = a_C.shape\n",
    "\n",
    "    #2d vs 1d unroll?\n",
    "    unrolled_a_C = tf.reshape(a_C, [-1])\n",
    "    unrolled_a_G = tf.reshape(a_G, [-1])\n",
    "    \n",
    "    sigma = tf.reduce_sum(tf.square(tf.subtract(unrolled_a_C, unrolled_a_G)));\n",
    "    \n",
    "    return sigma/(4 * n_h * n_w * n_c)"
   ]
  },
  {
   "cell_type": "code",
   "execution_count": 3,
   "metadata": {},
   "outputs": [],
   "source": [
    "def gram_matrix(A):\n",
    "    return tf.matmul(A, A, transpose_b=True)"
   ]
  },
  {
   "cell_type": "code",
   "execution_count": 4,
   "metadata": {},
   "outputs": [],
   "source": [
    "def layer_style_cost(a_S, a_G):\n",
    "    m, n_h, n_w, n_c = a_S.shape\n",
    "    \n",
    "    # n_c, n_h * n_w\n",
    "    unrolled_a_S = tf.transpose(tf.reshape(a_S, [n_h * n_w, n_c]))\n",
    "    unrolled_a_G = tf.transpose(tf.reshape(a_G, [n_h * n_w, n_c]))\n",
    "    \n",
    "    \n",
    "    G_a_S = gram_matrix(unrolled_a_S)\n",
    "    G_a_G = gram_matrix(unrolled_a_G)\n",
    "    \n",
    "    sigma = tf.reduce_sum(tf.square(tf.subtract(G_a_S, G_a_G)))\n",
    "    \n",
    "    \n",
    "    return sigma/(4 * n_h**2 * (n_w * n_c)**2)\n",
    "    "
   ]
  },
  {
   "cell_type": "code",
   "execution_count": 5,
   "metadata": {},
   "outputs": [],
   "source": [
    "def style_cost(model, STYLE_LAYERS):\n",
    "    \n",
    "    J_style = 0\n",
    "    \n",
    "    for name, coeff in STYLE_LAYERS:\n",
    "        \n",
    "        out = model[name]\n",
    "        \n",
    "        a_S = sess.run(out)\n",
    "        a_G = out\n",
    "        \n",
    "        J_style += coeff * layer_style_cost(a_S, a_G)\n",
    "    \n",
    "    return J_style"
   ]
  },
  {
   "cell_type": "code",
   "execution_count": 6,
   "metadata": {},
   "outputs": [],
   "source": [
    "STYLE_LAYERS = [\n",
    "    ('conv1_1', 0.2),\n",
    "    ('conv2_1', 0.2),\n",
    "    ('conv3_1', 0.2),\n",
    "    ('conv4_1', 0.2),\n",
    "    ('conv5_1', 0.2)]"
   ]
  },
  {
   "cell_type": "code",
   "execution_count": 7,
   "metadata": {},
   "outputs": [],
   "source": [
    "def total_cost(J_content, J_style, alpha=.7, beta=.4):\n",
    "    return J_content * alpha + J_style * beta"
   ]
  },
  {
   "cell_type": "code",
   "execution_count": 8,
   "metadata": {},
   "outputs": [],
   "source": [
    "def get_model(path):\n",
    "       \n",
    "    vgg = scipy.io.loadmat(path)\n",
    "\n",
    "    vgg_layers = vgg['layers']\n",
    "    \n",
    "    def _weights(layer, expected_layer_name):\n",
    "        wb = vgg_layers[0][layer][0][0][2]\n",
    "        W = wb[0][0]\n",
    "        b = wb[0][1]\n",
    "        layer_name = vgg_layers[0][layer][0][0][0][0]\n",
    "        return W, b\n",
    "\n",
    "    def _conv2d(prev_layer, layer, layer_name):\n",
    "        W, b = _weights(layer, layer_name)\n",
    "        W = tf.constant(W)\n",
    "        b = tf.constant(np.reshape(b, (b.size)))\n",
    "        return tf.nn.conv2d(prev_layer, filter=W, strides=[1, 1, 1, 1], padding='SAME') + b\n",
    "    \n",
    "\n",
    "    def _relu(conv2d_layer):\n",
    "        return tf.nn.relu(conv2d_layer)\n",
    "\n",
    "    def _conv2d_relu(prev_layer, layer, layer_name):\n",
    "        return _relu(_conv2d(prev_layer, layer, layer_name))\n",
    "\n",
    "    def _avgpool(prev_layer):\n",
    "        return tf.nn.avg_pool(prev_layer, ksize=[1, 2, 2, 1], strides=[1, 2, 2, 1], padding='SAME')\n",
    "\n",
    "    graph = {}\n",
    "    graph['input']   = tf.Variable(np.zeros((1, image_size[0], image_size[1], 3)), dtype = 'float32')\n",
    "    graph['conv1_1']  = _conv2d_relu(graph['input'], 0, 'conv1_1')\n",
    "    graph['conv1_2']  = _conv2d_relu(graph['conv1_1'], 2, 'conv1_2')\n",
    "    graph['avgpool1'] = _avgpool(graph['conv1_2'])\n",
    "    graph['conv2_1']  = _conv2d_relu(graph['avgpool1'], 5, 'conv2_1')\n",
    "    graph['conv2_2']  = _conv2d_relu(graph['conv2_1'], 7, 'conv2_2')\n",
    "    graph['avgpool2'] = _avgpool(graph['conv2_2'])\n",
    "    graph['conv3_1']  = _conv2d_relu(graph['avgpool2'], 10, 'conv3_1')\n",
    "    graph['conv3_2']  = _conv2d_relu(graph['conv3_1'], 12, 'conv3_2')\n",
    "    graph['conv3_3']  = _conv2d_relu(graph['conv3_2'], 14, 'conv3_3')\n",
    "    graph['conv3_4']  = _conv2d_relu(graph['conv3_3'], 16, 'conv3_4')\n",
    "    graph['avgpool3'] = _avgpool(graph['conv3_4'])\n",
    "    graph['conv4_1']  = _conv2d_relu(graph['avgpool3'], 19, 'conv4_1')\n",
    "    graph['conv4_2']  = _conv2d_relu(graph['conv4_1'], 21, 'conv4_2')\n",
    "    graph['conv4_3']  = _conv2d_relu(graph['conv4_2'], 23, 'conv4_3')\n",
    "    graph['conv4_4']  = _conv2d_relu(graph['conv4_3'], 25, 'conv4_4')\n",
    "    graph['avgpool4'] = _avgpool(graph['conv4_4'])\n",
    "    graph['conv5_1']  = _conv2d_relu(graph['avgpool4'], 28, 'conv5_1')\n",
    "    graph['conv5_2']  = _conv2d_relu(graph['conv5_1'], 30, 'conv5_2')\n",
    "    graph['conv5_3']  = _conv2d_relu(graph['conv5_2'], 32, 'conv5_3')\n",
    "    graph['conv5_4']  = _conv2d_relu(graph['conv5_3'], 34, 'conv5_4')\n",
    "    graph['avgpool5'] = _avgpool(graph['conv5_4'])\n",
    "    \n",
    "    return graph\n",
    "\n",
    "    "
   ]
  },
  {
   "cell_type": "code",
   "execution_count": 9,
   "metadata": {},
   "outputs": [],
   "source": [
    "img_mean = np.array([123.68, 116.779, 103.939]).reshape((1,1,1,3))\n",
    "def reshape_and_normalize_image(image):\n",
    "    image = np.reshape(image, ((1,) + image.shape))\n",
    "    image = image - img_mean\n",
    "    return image\n",
    "\n",
    "def save_image(path, image):\n",
    "    image = image + img_mean\n",
    "    image = np.clip(image[0], 0, 255).astype('uint8')\n",
    "    image = Image.fromarray(image)\n",
    "    image.save(path)"
   ]
  },
  {
   "cell_type": "code",
   "execution_count": 10,
   "metadata": {},
   "outputs": [],
   "source": [
    "tf.reset_default_graph()\n",
    "sess = tf.InteractiveSession()"
   ]
  },
  {
   "cell_type": "code",
   "execution_count": 11,
   "metadata": {},
   "outputs": [],
   "source": [
    "image_size = (380, 380)"
   ]
  },
  {
   "cell_type": "code",
   "execution_count": 12,
   "metadata": {},
   "outputs": [],
   "source": [
    "content_img = mpimg.imread(\"images/content.jpg\")\n",
    "content_img = reshape_and_normalize_image(content_img)"
   ]
  },
  {
   "cell_type": "code",
   "execution_count": 13,
   "metadata": {},
   "outputs": [],
   "source": [
    "style_img = mpimg.imread(\"images/style17.jpeg\")\n",
    "style_img = reshape_and_normalize_image(style_img)"
   ]
  },
  {
   "cell_type": "code",
   "execution_count": 14,
   "metadata": {},
   "outputs": [],
   "source": [
    "def generate_noise_image(content_image, noise_ratio =.8):\n",
    "    noise_image = np.random.uniform(-20, 20, (1, image_size[0], image_size[1], 3)).astype('float32')\n",
    "    input_image = noise_image * noise_ratio + content_image * (1 - noise_ratio)\n",
    "    \n",
    "    return input_image"
   ]
  },
  {
   "cell_type": "code",
   "execution_count": 15,
   "metadata": {},
   "outputs": [],
   "source": [
    "generated_img = generate_noise_image(content_img)"
   ]
  },
  {
   "cell_type": "code",
   "execution_count": 16,
   "metadata": {},
   "outputs": [],
   "source": [
    "model = get_model(\"vgg16/imagenet-vgg-verydeep-19.mat\")"
   ]
  },
  {
   "cell_type": "code",
   "execution_count": 17,
   "metadata": {},
   "outputs": [],
   "source": [
    "sess.run(model['input'].assign(content_img))\n",
    "out = model['conv4_2']\n",
    "a_C = sess.run(out)\n",
    "a_G = out\n",
    "J_content = content_cost(a_C, a_G)"
   ]
  },
  {
   "cell_type": "code",
   "execution_count": 18,
   "metadata": {},
   "outputs": [],
   "source": [
    "sess.run(model['input'].assign(style_img))\n",
    "J_style = style_cost(model, STYLE_LAYERS)"
   ]
  },
  {
   "cell_type": "code",
   "execution_count": 19,
   "metadata": {},
   "outputs": [],
   "source": [
    "J = total_cost(J_content, J_style)"
   ]
  },
  {
   "cell_type": "code",
   "execution_count": 20,
   "metadata": {},
   "outputs": [],
   "source": [
    "optimizer = tf.train.AdamOptimizer(2.0)\n",
    "train_step = optimizer.minimize(J)"
   ]
  },
  {
   "cell_type": "code",
   "execution_count": 21,
   "metadata": {},
   "outputs": [],
   "source": [
    "def model_nn(sess, input_image, num_iterations = 500):\n",
    "    \n",
    "    sess.run(tf.global_variables_initializer())\n",
    "\n",
    "    sess.run(model[\"input\"].assign(input_image))\n",
    "    \n",
    "    for i in range(num_iterations):\n",
    "    \n",
    "        sess.run(train_step)\n",
    "        generated_image = sess.run(model['input'])\n",
    "\n",
    "        if i%20 == 0:\n",
    "            Jt, Jc, Js = sess.run([J, J_content, J_style])\n",
    "            print(\"Iteration \" + str(i) + \" :\")\n",
    "            print(\"total cost = \" + str(Jt))\n",
    "            print(\"content cost = \" + str(Jc))\n",
    "            print(\"style cost = \" + str(Js))\n",
    "            \n",
    "            save_image(\"output/\" + str(i) + \".jpg\", generated_image)\n",
    "    \n",
    "    save_image('output/generated_image.jpg', generated_image)\n",
    "    \n",
    "    return generated_image"
   ]
  },
  {
   "cell_type": "code",
   "execution_count": 22,
   "metadata": {},
   "outputs": [
    {
     "name": "stdout",
     "output_type": "stream",
     "text": [
      "Iteration 0 :\n",
      "total cost = 74764090.0\n",
      "content cost = 20706.459\n",
      "style cost = 186873980.0\n",
      "Iteration 20 :\n",
      "total cost = 27883420.0\n",
      "content cost = 23629.246\n",
      "style cost = 69667200.0\n",
      "Iteration 40 :\n",
      "total cost = 14945924.0\n",
      "content cost = 24886.945\n",
      "style cost = 37321256.0\n",
      "Iteration 60 :\n",
      "total cost = 9594389.0\n",
      "content cost = 25384.666\n",
      "style cost = 23941550.0\n",
      "Iteration 80 :\n",
      "total cost = 6810007.5\n",
      "content cost = 25624.148\n",
      "style cost = 16980176.0\n",
      "Iteration 100 :\n",
      "total cost = 5043969.0\n",
      "content cost = 25732.902\n",
      "style cost = 12564890.0\n",
      "Iteration 120 :\n",
      "total cost = 3779967.0\n",
      "content cost = 25735.154\n",
      "style cost = 9404881.0\n",
      "Iteration 140 :\n",
      "total cost = 2872944.0\n",
      "content cost = 25770.639\n",
      "style cost = 7137261.0\n",
      "Iteration 160 :\n",
      "total cost = 2218989.5\n",
      "content cost = 25752.883\n",
      "style cost = 5502406.0\n",
      "Iteration 180 :\n",
      "total cost = 1739431.6\n",
      "content cost = 25735.393\n",
      "style cost = 4303542.0\n",
      "Iteration 200 :\n",
      "total cost = 1389082.2\n",
      "content cost = 25733.111\n",
      "style cost = 3427672.8\n",
      "Iteration 220 :\n",
      "total cost = 1135101.2\n",
      "content cost = 25742.688\n",
      "style cost = 2792703.5\n",
      "Iteration 240 :\n",
      "total cost = 949307.9\n",
      "content cost = 25737.96\n",
      "style cost = 2328228.2\n",
      "Iteration 260 :\n",
      "total cost = 811054.2\n",
      "content cost = 25737.838\n",
      "style cost = 1982594.2\n",
      "Iteration 280 :\n",
      "total cost = 705347.8\n",
      "content cost = 25733.299\n",
      "style cost = 1718336.2\n",
      "Iteration 300 :\n",
      "total cost = 623359.2\n",
      "content cost = 25758.852\n",
      "style cost = 1513320.0\n",
      "Iteration 320 :\n",
      "total cost = 557760.9\n",
      "content cost = 25783.1\n",
      "style cost = 1349281.6\n",
      "Iteration 340 :\n",
      "total cost = 505755.75\n",
      "content cost = 25826.629\n",
      "style cost = 1219192.8\n",
      "Iteration 360 :\n",
      "total cost = 461381.97\n",
      "content cost = 25858.178\n",
      "style cost = 1108203.1\n",
      "Iteration 380 :\n",
      "total cost = 423412.94\n",
      "content cost = 25886.305\n",
      "style cost = 1013231.3\n",
      "Iteration 400 :\n",
      "total cost = 389283.4\n",
      "content cost = 25910.383\n",
      "style cost = 927865.3\n",
      "Iteration 420 :\n",
      "total cost = 363115.28\n",
      "content cost = 25937.408\n",
      "style cost = 862397.75\n",
      "Iteration 440 :\n",
      "total cost = 346578.44\n",
      "content cost = 25977.238\n",
      "style cost = 820985.94\n",
      "Iteration 460 :\n",
      "total cost = 314844.1\n",
      "content cost = 26009.64\n",
      "style cost = 741593.3\n",
      "Iteration 480 :\n",
      "total cost = 298096.3\n",
      "content cost = 26043.18\n",
      "style cost = 699665.2\n"
     ]
    },
    {
     "data": {
      "text/plain": [
       "array([[[[104.65849  ,  84.35758  ,  78.292076 ],\n",
       "         [ 25.24112  ,  47.26096  ,  22.872252 ],\n",
       "         [ 47.489117 ,  57.305836 ,  47.275394 ],\n",
       "         ...,\n",
       "         [ 19.811752 ,  25.29337  ,   5.6567483],\n",
       "         [  8.491561 ,  35.08746  ,  11.81553  ],\n",
       "         [ -7.101299 ,  32.929398 ,  11.810356 ]],\n",
       "\n",
       "        [[ 48.601173 ,  10.316775 ,  34.20858  ],\n",
       "         [ -5.178976 , -18.49542  , -42.708637 ],\n",
       "         [ -6.8978996, -57.2401   , -24.570187 ],\n",
       "         ...,\n",
       "         [ 14.9425125,   6.048366 ,  18.99626  ],\n",
       "         [ 13.37573  ,  17.87961  ,   8.514842 ],\n",
       "         [ 17.106684 ,  33.07383  ,  11.855846 ]],\n",
       "\n",
       "        [[ 40.378613 ,  46.13308  ,  30.95661  ],\n",
       "         [ -3.0625417,  -9.44101  ,   9.4996395],\n",
       "         [  2.701304 ,  24.009508 ,  27.612526 ],\n",
       "         ...,\n",
       "         [ 30.359495 ,  16.813828 ,   9.163417 ],\n",
       "         [  7.752055 ,  13.416243 ,   6.580846 ],\n",
       "         [ 28.526432 ,  27.44254  ,  18.654036 ]],\n",
       "\n",
       "        ...,\n",
       "\n",
       "        [[ 50.119385 ,  21.369043 ,  37.869343 ],\n",
       "         [  0.4744053,  -8.169644 ,  -5.7738695],\n",
       "         [ -5.8155465,  36.3278   ,  19.465733 ],\n",
       "         ...,\n",
       "         [-12.1807   ,   0.9767274,  20.703018 ],\n",
       "         [-27.606544 , -27.477697 , -14.801419 ],\n",
       "         [ 68.10709  ,  19.911106 ,  37.038177 ]],\n",
       "\n",
       "        [[ 77.43888  , 121.69181  , 102.65537  ],\n",
       "         [ 37.741936 ,  18.230858 ,  21.5761   ],\n",
       "         [ 27.760609 ,  12.257344 ,  38.746704 ],\n",
       "         ...,\n",
       "         [-80.37256  , -16.424053 ,  12.127063 ],\n",
       "         [-62.26376  , -25.309267 ,   6.2927976],\n",
       "         [131.93306  ,  76.55548  ,  75.21083  ]],\n",
       "\n",
       "        [[ 57.064526 , -21.169916 ,  37.222668 ],\n",
       "         [-28.261839 , -46.838467 , -67.80999  ],\n",
       "         [-68.352516 , -35.999493 , -29.314844 ],\n",
       "         ...,\n",
       "         [ 14.127519 ,   9.474612 ,  82.65655  ],\n",
       "         [  7.0160217,   8.317746 ,  56.776237 ],\n",
       "         [ 97.41887  ,  39.03734  , 114.35956  ]]]], dtype=float32)"
      ]
     },
     "execution_count": 22,
     "metadata": {},
     "output_type": "execute_result"
    }
   ],
   "source": [
    "model_nn(sess, generated_img)"
   ]
  },
  {
   "cell_type": "code",
   "execution_count": null,
   "metadata": {},
   "outputs": [],
   "source": []
  },
  {
   "cell_type": "code",
   "execution_count": null,
   "metadata": {},
   "outputs": [],
   "source": []
  },
  {
   "cell_type": "code",
   "execution_count": null,
   "metadata": {},
   "outputs": [],
   "source": []
  }
 ],
 "metadata": {
  "kernelspec": {
   "display_name": "Python 3",
   "language": "python",
   "name": "python3"
  },
  "language_info": {
   "codemirror_mode": {
    "name": "ipython",
    "version": 3
   },
   "file_extension": ".py",
   "mimetype": "text/x-python",
   "name": "python",
   "nbconvert_exporter": "python",
   "pygments_lexer": "ipython3",
   "version": "3.5.2"
  }
 },
 "nbformat": 4,
 "nbformat_minor": 2
}
